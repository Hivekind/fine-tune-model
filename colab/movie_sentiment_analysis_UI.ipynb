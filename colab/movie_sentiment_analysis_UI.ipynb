{
  "nbformat": 4,
  "nbformat_minor": 0,
  "metadata": {
    "colab": {
      "provenance": [],
      "gpuType": "L4"
    },
    "kernelspec": {
      "name": "python3",
      "display_name": "Python 3"
    },
    "language_info": {
      "name": "python"
    },
    "accelerator": "GPU"
  },
  "cells": [
    {
      "cell_type": "code",
      "source": [
        "# 1. Mount Google Drive\n",
        "from google.colab import drive\n",
        "drive.mount('/content/drive')"
      ],
      "metadata": {
        "id": "eE4pC7QxgjZr"
      },
      "execution_count": null,
      "outputs": []
    },
    {
      "cell_type": "code",
      "execution_count": null,
      "metadata": {
        "id": "WuixqqzlHGPh",
        "collapsed": true
      },
      "outputs": [],
      "source": [
        "# 2. Install Required Libraries\n",
        "\n",
        "!pip install gradio\n",
        "!pip install transformers"
      ]
    },
    {
      "cell_type": "code",
      "source": [
        "# 3. Import Libraries\n",
        "\n",
        "import torch\n",
        "from transformers import AutoTokenizer, AutoModelForSequenceClassification\n",
        "import gradio as gr"
      ],
      "metadata": {
        "id": "2CQ0SVR4gubX"
      },
      "execution_count": null,
      "outputs": []
    },
    {
      "cell_type": "code",
      "source": [
        "# 4. Load the tokenizer and model\n",
        "\n",
        "# Determine the device\n",
        "device = torch.device('cuda' if torch.cuda.is_available() else 'cpu')\n",
        "\n",
        "model_checkpoint = '/content/drive/MyDrive/movie_sentiment_model'\n",
        "\n",
        "tokenizer = AutoTokenizer.from_pretrained(model_checkpoint)\n",
        "model = AutoModelForSequenceClassification.from_pretrained(model_checkpoint)\n",
        "\n",
        "# Move the model to the device\n",
        "model.to(device)"
      ],
      "metadata": {
        "id": "GrZUf1YwH9uS",
        "collapsed": true
      },
      "execution_count": null,
      "outputs": []
    },
    {
      "cell_type": "code",
      "source": [
        "def sentiment_analysis(text):\n",
        "    # Tokenize the input text\n",
        "    inputs = tokenizer(\n",
        "        text,\n",
        "        return_tensors='pt',\n",
        "        truncation=True,\n",
        "        padding='max_length',\n",
        "        max_length=256\n",
        "    )\n",
        "\n",
        "    # Move inputs to the same device as the model\n",
        "    inputs = {key: value.to(device) for key, value in inputs.items()}\n",
        "\n",
        "    # Set the model to evaluation mode\n",
        "    model.eval()\n",
        "\n",
        "    # Disable gradient calculation for efficiency\n",
        "    with torch.no_grad():\n",
        "        outputs = model(**inputs)\n",
        "\n",
        "    # Get the predicted class\n",
        "    logits = outputs.logits\n",
        "    prediction = torch.argmax(logits, dim=-1).item()\n",
        "    sentiment = 'Positive' if prediction == 1 else 'Negative'\n",
        "\n",
        "    # Optional: Print the result (can be removed)\n",
        "    print(f\"Review: {text}\")\n",
        "    print(f\"Sentiment: {sentiment}\")\n",
        "\n",
        "    return sentiment"
      ],
      "metadata": {
        "id": "Gwkv0hEEIJbq"
      },
      "execution_count": null,
      "outputs": []
    },
    {
      "cell_type": "code",
      "source": [
        "iface = gr.Interface(\n",
        "    fn=sentiment_analysis,\n",
        "    inputs=gr.Textbox(lines=5, placeholder='Enter a movie review here...'),\n",
        "    outputs=gr.Textbox(label='Sentiment'),\n",
        "    title='Movie Review Sentiment Analysis',\n",
        "    description='Enter a movie review to predict its sentiment (Positive or Negative).',\n",
        ")\n",
        "\n",
        "iface.launch()"
      ],
      "metadata": {
        "id": "zBWjEBgYIOPH",
        "collapsed": true
      },
      "execution_count": null,
      "outputs": []
    }
  ]
}