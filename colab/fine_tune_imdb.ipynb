{
  "nbformat": 4,
  "nbformat_minor": 0,
  "metadata": {
    "colab": {
      "provenance": [],
      "gpuType": "L4"
    },
    "kernelspec": {
      "name": "python3",
      "display_name": "Python 3"
    },
    "language_info": {
      "name": "python"
    },
    "accelerator": "GPU"
  },
  "cells": [
    {
      "cell_type": "code",
      "execution_count": null,
      "metadata": {
        "id": "_V7RD_LeR6bw",
        "collapsed": true
      },
      "outputs": [],
      "source": [
        "# 1. Mount Google Drive\n",
        "from google.colab import drive\n",
        "drive.mount('/content/drive')\n"
      ]
    },
    {
      "cell_type": "code",
      "source": [
        "# 2. Install Required Libraries\n",
        "!pip install transformers datasets evaluate"
      ],
      "metadata": {
        "collapsed": true,
        "id": "B2l6jZKKSPfW"
      },
      "execution_count": null,
      "outputs": []
    },
    {
      "cell_type": "code",
      "source": [
        "# 3. Import Libraries\n",
        "\n",
        "import os\n",
        "import torch\n",
        "from transformers import AutoTokenizer, AutoModelForSequenceClassification, Trainer, TrainingArguments\n",
        "from datasets import load_dataset\n",
        "\n",
        "import numpy as np\n",
        "import evaluate"
      ],
      "metadata": {
        "id": "Xb5EysZWSazC"
      },
      "execution_count": null,
      "outputs": []
    },
    {
      "cell_type": "code",
      "source": [
        "# 4. Set Up Path\n",
        "\n",
        "# Base directory in Google Drive to save models and data\n",
        "base_dir = '/content/drive/MyDrive/movie_sentiment_model'\n",
        "if not os.path.exists(base_dir):\n",
        "    os.makedirs(base_dir)"
      ],
      "metadata": {
        "id": "3Du646fySpXs"
      },
      "execution_count": null,
      "outputs": []
    },
    {
      "cell_type": "code",
      "source": [
        "# 5. Load and Prepare the IMDb Dataset\n",
        "\n",
        "# Load the IMDb dataset\n",
        "raw_datasets = load_dataset('imdb')\n",
        "\n",
        "# Prepare the tokenizer\n",
        "tokenizer = AutoTokenizer.from_pretrained('distilbert-base-uncased')\n",
        "\n",
        "# Tokenization function\n",
        "def tokenize_function(examples):\n",
        "    return tokenizer(\n",
        "        examples['text'],\n",
        "        truncation=True,\n",
        "        padding='max_length',\n",
        "        max_length=256,\n",
        "    )\n",
        "\n",
        "# Tokenize the datasets\n",
        "tokenized_datasets = raw_datasets.map(tokenize_function, batched=True)\n",
        "\n",
        "# Remove unnecessary columns and set format\n",
        "tokenized_datasets = tokenized_datasets.remove_columns(['text'])\n",
        "tokenized_datasets.set_format('torch')"
      ],
      "metadata": {
        "collapsed": true,
        "id": "H7GMjfsLTjgz"
      },
      "execution_count": null,
      "outputs": []
    },
    {
      "cell_type": "code",
      "source": [
        "print(\"\\nraw datasets:\\n\")\n",
        "print(raw_datasets)\n",
        "\n",
        "print(\"\\ntokenized datasets:\\n\")\n",
        "print(tokenized_datasets)"
      ],
      "metadata": {
        "collapsed": true,
        "id": "3GtaQdq0T3cJ"
      },
      "execution_count": null,
      "outputs": []
    },
    {
      "cell_type": "code",
      "source": [
        "# 6. prepare the training dataset\n",
        "\n",
        "# Shuffle the train dataset for training\n",
        "train_dataset = tokenized_datasets['train'].shuffle(seed=42)\n",
        "\n",
        "eval_dataset = tokenized_datasets['test']"
      ],
      "metadata": {
        "id": "SytPqb4FWKJY"
      },
      "execution_count": null,
      "outputs": []
    },
    {
      "cell_type": "code",
      "source": [
        "# 7. Set Up the Evaluation Metric\n",
        "\n",
        "metric = evaluate.load('accuracy')\n",
        "\n",
        "def compute_metrics(eval_pred):\n",
        "    logits, labels = eval_pred\n",
        "    predictions = torch.argmax(torch.tensor(logits), dim=-1)\n",
        "    return metric.compute(predictions=predictions, references=labels)"
      ],
      "metadata": {
        "id": "EkqBWwxQaRn7"
      },
      "execution_count": null,
      "outputs": []
    },
    {
      "cell_type": "code",
      "source": [
        "# 8. Set up the Pre-trained model\n",
        "\n",
        "# Determine the device\n",
        "device = torch.device('cuda' if torch.cuda.is_available() else 'cpu')\n",
        "\n",
        "# load the model\n",
        "model = AutoModelForSequenceClassification.from_pretrained('distilbert-base-uncased', num_labels=2)\n",
        "\n",
        "# Move the model to the device\n",
        "model.to(device)\n",
        "\n",
        "# Set Up Training Arguments\n",
        "training_args = TrainingArguments(\n",
        "    output_dir='./results',\n",
        "    num_train_epochs=2,\n",
        "    per_device_train_batch_size=16,\n",
        "    per_device_eval_batch_size=16,\n",
        "    eval_strategy='epoch',\n",
        "    save_strategy='epoch',\n",
        "    logging_dir='./logs',\n",
        "    logging_steps=100,\n",
        "    load_best_model_at_end=True,\n",
        "    metric_for_best_model='accuracy',\n",
        ")\n",
        "\n",
        "# initialize the Trainer\n",
        "trainer = Trainer(\n",
        "    model = model,\n",
        "    args = training_args,\n",
        "    train_dataset = train_dataset,\n",
        "    eval_dataset = eval_dataset,\n",
        "    compute_metrics = compute_metrics,\n",
        ")"
      ],
      "metadata": {
        "collapsed": true,
        "id": "w7tZ3yTDYLRJ"
      },
      "execution_count": null,
      "outputs": []
    },
    {
      "cell_type": "code",
      "source": [
        "# 9. Start training\n",
        "\n",
        "trainer.train()"
      ],
      "metadata": {
        "id": "P04g4-K6bPef"
      },
      "execution_count": null,
      "outputs": []
    },
    {
      "cell_type": "code",
      "source": [
        "# 10. Evaluate the model on validation data\n",
        "\n",
        "eval_result = trainer.evaluate()\n",
        "print(f\"Accuracy: {eval_result['eval_accuracy']:.4f}\")"
      ],
      "metadata": {
        "id": "bHTiM6t_bpHL"
      },
      "execution_count": null,
      "outputs": []
    },
    {
      "cell_type": "code",
      "source": [
        "# 11. Save the model\n",
        "\n",
        "model.save_pretrained(base_dir)\n",
        "tokenizer.save_pretrained(base_dir)"
      ],
      "metadata": {
        "id": "OVALK8rnhQ7K"
      },
      "execution_count": null,
      "outputs": []
    }
  ]
}